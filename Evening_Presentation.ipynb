{
  "nbformat": 4,
  "nbformat_minor": 0,
  "metadata": {
    "colab": {
      "name": "Evening Presentation",
      "provenance": [],
      "collapsed_sections": [],
      "authorship_tag": "ABX9TyO4gXdPYSkkzfk8dw7FGfx7",
      "include_colab_link": true
    },
    "kernelspec": {
      "name": "python3",
      "display_name": "Python 3"
    }
  },
  "cells": [
    {
      "cell_type": "markdown",
      "metadata": {
        "id": "view-in-github",
        "colab_type": "text"
      },
      "source": [
        "<a href=\"https://colab.research.google.com/github/joeloduor91/data_science/blob/main/Evening_Presentation.ipynb\" target=\"_parent\"><img src=\"https://colab.research.google.com/assets/colab-badge.svg\" alt=\"Open In Colab\"/></a>"
      ]
    },
    {
      "cell_type": "markdown",
      "metadata": {
        "id": "uPIOsnaqYOm8"
      },
      "source": [
        "# Data Structures Presentation ( Strings/ Characters)"
      ]
    },
    {
      "cell_type": "markdown",
      "metadata": {
        "id": "e7PPsyeDYi2n"
      },
      "source": [
        "To query data type/structure in collab use the function type() as shown below; "
      ]
    },
    {
      "cell_type": "code",
      "metadata": {
        "id": "5VHz5kGpY_DV"
      },
      "source": [
        "name = \"Joel\" \r\n",
        "country = \"Kenya\" \r\n",
        "code = 254\r\n",
        "fav_meal = \"Fish\" \r\n"
      ],
      "execution_count": null,
      "outputs": []
    },
    {
      "cell_type": "code",
      "metadata": {
        "colab": {
          "base_uri": "https://localhost:8080/"
        },
        "id": "krX3wxUhZ7Yk",
        "outputId": "4d40c03a-6798-4677-c755-6242a85cabdc"
      },
      "source": [
        "type(name)"
      ],
      "execution_count": null,
      "outputs": [
        {
          "output_type": "execute_result",
          "data": {
            "text/plain": [
              "str"
            ]
          },
          "metadata": {
            "tags": []
          },
          "execution_count": 14
        }
      ]
    },
    {
      "cell_type": "code",
      "metadata": {
        "colab": {
          "base_uri": "https://localhost:8080/"
        },
        "id": "UkHjy8LSaMck",
        "outputId": "58648225-a548-41c1-c519-6124a4d5bdfb"
      },
      "source": [
        "type(fav_meal)"
      ],
      "execution_count": null,
      "outputs": [
        {
          "output_type": "execute_result",
          "data": {
            "text/plain": [
              "str"
            ]
          },
          "metadata": {
            "tags": []
          },
          "execution_count": 18
        }
      ]
    },
    {
      "cell_type": "code",
      "metadata": {
        "colab": {
          "base_uri": "https://localhost:8080/"
        },
        "id": "VHv1HY-NaW0L",
        "outputId": "f6017fe4-2b71-423f-a1c2-cfd0d5928f5d"
      },
      "source": [
        "type(code)"
      ],
      "execution_count": null,
      "outputs": [
        {
          "output_type": "execute_result",
          "data": {
            "text/plain": [
              "int"
            ]
          },
          "metadata": {
            "tags": []
          },
          "execution_count": 15
        }
      ]
    },
    {
      "cell_type": "markdown",
      "metadata": {
        "id": "9zlpHUj2a6_o"
      },
      "source": [
        "casting code to string so as to check the data type"
      ]
    },
    {
      "cell_type": "code",
      "metadata": {
        "id": "ZY-BvPWYbUgg"
      },
      "source": [
        "code_string = str(code)"
      ],
      "execution_count": null,
      "outputs": []
    },
    {
      "cell_type": "code",
      "metadata": {
        "id": "gGpwBkZAbfIN"
      },
      "source": [
        "code_string"
      ],
      "execution_count": null,
      "outputs": []
    },
    {
      "cell_type": "code",
      "metadata": {
        "id": "c4vCLa3gbnnb"
      },
      "source": [
        "type(code_string)"
      ],
      "execution_count": null,
      "outputs": []
    },
    {
      "cell_type": "code",
      "metadata": {
        "id": "Ga7FssLdcMX4"
      },
      "source": [
        "country_code = country + \" \"+ code_string"
      ],
      "execution_count": null,
      "outputs": []
    },
    {
      "cell_type": "code",
      "metadata": {
        "colab": {
          "base_uri": "https://localhost:8080/",
          "height": 35
        },
        "id": "H-RjwClScZXO",
        "outputId": "658d3931-4df7-40c9-c920-5bb43d810465"
      },
      "source": [
        "country_code"
      ],
      "execution_count": null,
      "outputs": [
        {
          "output_type": "execute_result",
          "data": {
            "application/vnd.google.colaboratory.intrinsic+json": {
              "type": "string"
            },
            "text/plain": [
              "'Kenya 254'"
            ]
          },
          "metadata": {
            "tags": []
          },
          "execution_count": 17
        }
      ]
    },
    {
      "cell_type": "code",
      "metadata": {
        "colab": {
          "base_uri": "https://localhost:8080/"
        },
        "id": "6Y5wycVTchIr",
        "outputId": "f98ce1af-f905-46c1-e177-48aa43e9dd39"
      },
      "source": [
        "type(country_code)"
      ],
      "execution_count": null,
      "outputs": [
        {
          "output_type": "execute_result",
          "data": {
            "text/plain": [
              "str"
            ]
          },
          "metadata": {
            "tags": []
          },
          "execution_count": 16
        }
      ]
    }
  ]
}